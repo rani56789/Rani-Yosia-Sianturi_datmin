{
  "nbformat": 4,
  "nbformat_minor": 0,
  "metadata": {
    "colab": {
      "provenance": [],
      "authorship_tag": "ABX9TyOlWvHWO0z/pEkRX/2XMSQb",
      "include_colab_link": true
    },
    "kernelspec": {
      "name": "python3",
      "display_name": "Python 3"
    },
    "language_info": {
      "name": "python"
    }
  },
  "cells": [
    {
      "cell_type": "markdown",
      "metadata": {
        "id": "view-in-github",
        "colab_type": "text"
      },
      "source": [
        "<a href=\"https://colab.research.google.com/github/rani56789/Rani-Yosia-Sianturi_datmin/blob/main/Untitled6.ipynb\" target=\"_parent\"><img src=\"https://colab.research.google.com/assets/colab-badge.svg\" alt=\"Open In Colab\"/></a>"
      ]
    },
    {
      "cell_type": "markdown",
      "source": [
        "**1. Memuat Data**"
      ],
      "metadata": {
        "id": "-DKFx9HAKdMZ"
      }
    },
    {
      "cell_type": "markdown",
      "source": [
        "Langkah pertama adalah memuat dataset dari file CSV ke dalam DataFrame."
      ],
      "metadata": {
        "id": "nCIS31mCYNGk"
      }
    },
    {
      "cell_type": "code",
      "source": [
        "import pandas as pd\n",
        "# Memuat data dari file CSV\n",
        "df = pd.read_csv('movie_sample_dataset.csv')"
      ],
      "metadata": {
        "id": "GElCVO1xKiL3"
      },
      "execution_count": 23,
      "outputs": []
    },
    {
      "cell_type": "markdown",
      "source": [
        "**2. Memeriksa Data**"
      ],
      "metadata": {
        "id": "JWytYZssLEVc"
      }
    },
    {
      "cell_type": "code",
      "source": [
        "# Menampilkan 5 baris pertama dari dataset\n",
        "print(df.head())\n",
        "# Informasi umum dataset termasuk tipe data dan jumlah nilai yang hilang\n",
        "print(df.info())"
      ],
      "metadata": {
        "colab": {
          "base_uri": "https://localhost:8080/"
        },
        "id": "ubbowzE9LJ-7",
        "outputId": "9c6ae80b-00fd-4744-c0d5-5dd6122218cf"
      },
      "execution_count": 24,
      "outputs": [
        {
          "output_type": "stream",
          "name": "stdout",
          "text": [
            "    color      director_name  duration        gross  \\\n",
            "0   Color    Martin Scorsese       240  116866727.0   \n",
            "1   Color        Shane Black       195  408992272.0   \n",
            "2  color   Quentin Tarantino       187   54116191.0   \n",
            "3   Color   Kenneth Lonergan       186      46495.0   \n",
            "4   Color      Peter Jackson       186  258355354.0   \n",
            "\n",
            "                                 genres                          movie_title  \\\n",
            "0          Biography|Comedy|Crime|Drama              The Wolf of Wall Street   \n",
            "1               Action|Adventure|Sci-Fi                           Iron Man 3   \n",
            "2  Crime|Drama|Mystery|Thriller|Western                    The Hateful Eight   \n",
            "3                                 Drama                             Margaret   \n",
            "4                     Adventure|Fantasy  The Hobbit: The Desolation of Smaug   \n",
            "\n",
            "   title_year language country       budget  imdb_score  \\\n",
            "0        2013  English     USA  100000000.0         8.2   \n",
            "1        2013  English     USA  200000000.0         7.2   \n",
            "2        2015  English     USA   44000000.0         7.9   \n",
            "3        2011  English     usa   14000000.0         6.5   \n",
            "4        2013  English     USA  225000000.0         7.9   \n",
            "\n",
            "                                              actors  movie_facebook_likes  \n",
            "0  Leonardo DiCaprio,Matthew McConaughey,Jon Favreau                138000  \n",
            "1          Robert Downey Jr.,Jon Favreau,Don Cheadle                 95000  \n",
            "2          Craig Stark,Jennifer Jason Leigh,Zoë Bell                114000  \n",
            "3        Matt Damon,Kieran Culkin,John Gallagher Jr.                     0  \n",
            "4              Aidan Turner,Adam Brown,James Nesbitt                 83000  \n",
            "<class 'pandas.core.frame.DataFrame'>\n",
            "RangeIndex: 99 entries, 0 to 98\n",
            "Data columns (total 13 columns):\n",
            " #   Column                Non-Null Count  Dtype  \n",
            "---  ------                --------------  -----  \n",
            " 0   color                 88 non-null     object \n",
            " 1   director_name         88 non-null     object \n",
            " 2   duration              99 non-null     int64  \n",
            " 3   gross                 91 non-null     float64\n",
            " 4   genres                98 non-null     object \n",
            " 5   movie_title           99 non-null     object \n",
            " 6   title_year            99 non-null     int64  \n",
            " 7   language              99 non-null     object \n",
            " 8   country               99 non-null     object \n",
            " 9   budget                95 non-null     float64\n",
            " 10  imdb_score            99 non-null     float64\n",
            " 11  actors                99 non-null     object \n",
            " 12  movie_facebook_likes  99 non-null     int64  \n",
            "dtypes: float64(3), int64(3), object(7)\n",
            "memory usage: 10.2+ KB\n",
            "None\n"
          ]
        }
      ]
    },
    {
      "cell_type": "markdown",
      "source": [
        "**3. Membersihkan Data**"
      ],
      "metadata": {
        "id": "faFGjCx2LQH5"
      }
    },
    {
      "cell_type": "code",
      "source": [
        "# Menghapus baris dengan nilai NaN pada kolom 'gross' dan 'budget'\n",
        "df_cleaned = df.dropna(subset=['gross', 'budget'])\n",
        "# Mengubah nilai yang tidak konsisten, seperti \"Color\" dan \"color\", menjadi satu format yang sama\n",
        "df_cleaned['color'] = df_cleaned['color'].str.lower()\n",
        "# Menghapus nilai-nilai negatif dalam kolom 'budget' dan 'gross'\n",
        "df_cleaned = df_cleaned[(df_cleaned['budget'] >= 0) & (df_cleaned['gross'] >= 0)]\n",
        "\n",
        "# Menghapus atau mengganti nilai \"N/A\" dengan NaN\n",
        "df_cleaned.replace(\"N/A\", pd.NA, inplace=True)"
      ],
      "metadata": {
        "colab": {
          "base_uri": "https://localhost:8080/"
        },
        "id": "FxP27GsmLXer",
        "outputId": "81ece288-00ae-48f3-8a49-b6340b92b158"
      },
      "execution_count": 25,
      "outputs": [
        {
          "output_type": "stream",
          "name": "stderr",
          "text": [
            "<ipython-input-25-0bb1531efe7f>:4: SettingWithCopyWarning: \n",
            "A value is trying to be set on a copy of a slice from a DataFrame.\n",
            "Try using .loc[row_indexer,col_indexer] = value instead\n",
            "\n",
            "See the caveats in the documentation: https://pandas.pydata.org/pandas-docs/stable/user_guide/indexing.html#returning-a-view-versus-a-copy\n",
            "  df_cleaned['color'] = df_cleaned['color'].str.lower()\n"
          ]
        }
      ]
    },
    {
      "cell_type": "markdown",
      "source": [
        "**4. Transformasi Data**"
      ],
      "metadata": {
        "id": "SE5l-KtsLduG"
      }
    },
    {
      "cell_type": "markdown",
      "source": [
        "Ubah Tipe Data"
      ],
      "metadata": {
        "id": "8efGgvc2Tgps"
      }
    },
    {
      "cell_type": "code",
      "source": [
        "# Ubah kolom 'gross' dan 'budget' menjadi numerik\n",
        "df['gross'] = pd.to_numeric(df['gross'])\n",
        "df['budget'] = pd.to_numeric(df['budget'])"
      ],
      "metadata": {
        "id": "NyqqIFBlLiEN"
      },
      "execution_count": 26,
      "outputs": []
    },
    {
      "cell_type": "markdown",
      "source": [
        "Split dan Explode Genres"
      ],
      "metadata": {
        "id": "5bYX0bDITl3Y"
      }
    },
    {
      "cell_type": "code",
      "source": [
        "df['genres'] = df['genres'].str.split('|')\n",
        "df = df.explode('genres')\n",
        "df.head()"
      ],
      "metadata": {
        "colab": {
          "base_uri": "https://localhost:8080/",
          "height": 487
        },
        "id": "2fi5dEfJTry9",
        "outputId": "63d417d6-c7c5-47c9-b140-f93ad0f06803"
      },
      "execution_count": 27,
      "outputs": [
        {
          "output_type": "execute_result",
          "data": {
            "text/plain": [
              "   color    director_name  duration        gross     genres  \\\n",
              "0  Color  Martin Scorsese       240  116866727.0  Biography   \n",
              "0  Color  Martin Scorsese       240  116866727.0     Comedy   \n",
              "0  Color  Martin Scorsese       240  116866727.0      Crime   \n",
              "0  Color  Martin Scorsese       240  116866727.0      Drama   \n",
              "1  Color      Shane Black       195  408992272.0     Action   \n",
              "\n",
              "               movie_title  title_year language country       budget  \\\n",
              "0  The Wolf of Wall Street        2013  English     USA  100000000.0   \n",
              "0  The Wolf of Wall Street        2013  English     USA  100000000.0   \n",
              "0  The Wolf of Wall Street        2013  English     USA  100000000.0   \n",
              "0  The Wolf of Wall Street        2013  English     USA  100000000.0   \n",
              "1               Iron Man 3        2013  English     USA  200000000.0   \n",
              "\n",
              "   imdb_score                                             actors  \\\n",
              "0         8.2  Leonardo DiCaprio,Matthew McConaughey,Jon Favreau   \n",
              "0         8.2  Leonardo DiCaprio,Matthew McConaughey,Jon Favreau   \n",
              "0         8.2  Leonardo DiCaprio,Matthew McConaughey,Jon Favreau   \n",
              "0         8.2  Leonardo DiCaprio,Matthew McConaughey,Jon Favreau   \n",
              "1         7.2          Robert Downey Jr.,Jon Favreau,Don Cheadle   \n",
              "\n",
              "   movie_facebook_likes  \n",
              "0                138000  \n",
              "0                138000  \n",
              "0                138000  \n",
              "0                138000  \n",
              "1                 95000  "
            ],
            "text/html": [
              "\n",
              "  <div id=\"df-cc4424e4-863b-46ed-a71a-76fae19272fe\" class=\"colab-df-container\">\n",
              "    <div>\n",
              "<style scoped>\n",
              "    .dataframe tbody tr th:only-of-type {\n",
              "        vertical-align: middle;\n",
              "    }\n",
              "\n",
              "    .dataframe tbody tr th {\n",
              "        vertical-align: top;\n",
              "    }\n",
              "\n",
              "    .dataframe thead th {\n",
              "        text-align: right;\n",
              "    }\n",
              "</style>\n",
              "<table border=\"1\" class=\"dataframe\">\n",
              "  <thead>\n",
              "    <tr style=\"text-align: right;\">\n",
              "      <th></th>\n",
              "      <th>color</th>\n",
              "      <th>director_name</th>\n",
              "      <th>duration</th>\n",
              "      <th>gross</th>\n",
              "      <th>genres</th>\n",
              "      <th>movie_title</th>\n",
              "      <th>title_year</th>\n",
              "      <th>language</th>\n",
              "      <th>country</th>\n",
              "      <th>budget</th>\n",
              "      <th>imdb_score</th>\n",
              "      <th>actors</th>\n",
              "      <th>movie_facebook_likes</th>\n",
              "    </tr>\n",
              "  </thead>\n",
              "  <tbody>\n",
              "    <tr>\n",
              "      <th>0</th>\n",
              "      <td>Color</td>\n",
              "      <td>Martin Scorsese</td>\n",
              "      <td>240</td>\n",
              "      <td>116866727.0</td>\n",
              "      <td>Biography</td>\n",
              "      <td>The Wolf of Wall Street</td>\n",
              "      <td>2013</td>\n",
              "      <td>English</td>\n",
              "      <td>USA</td>\n",
              "      <td>100000000.0</td>\n",
              "      <td>8.2</td>\n",
              "      <td>Leonardo DiCaprio,Matthew McConaughey,Jon Favreau</td>\n",
              "      <td>138000</td>\n",
              "    </tr>\n",
              "    <tr>\n",
              "      <th>0</th>\n",
              "      <td>Color</td>\n",
              "      <td>Martin Scorsese</td>\n",
              "      <td>240</td>\n",
              "      <td>116866727.0</td>\n",
              "      <td>Comedy</td>\n",
              "      <td>The Wolf of Wall Street</td>\n",
              "      <td>2013</td>\n",
              "      <td>English</td>\n",
              "      <td>USA</td>\n",
              "      <td>100000000.0</td>\n",
              "      <td>8.2</td>\n",
              "      <td>Leonardo DiCaprio,Matthew McConaughey,Jon Favreau</td>\n",
              "      <td>138000</td>\n",
              "    </tr>\n",
              "    <tr>\n",
              "      <th>0</th>\n",
              "      <td>Color</td>\n",
              "      <td>Martin Scorsese</td>\n",
              "      <td>240</td>\n",
              "      <td>116866727.0</td>\n",
              "      <td>Crime</td>\n",
              "      <td>The Wolf of Wall Street</td>\n",
              "      <td>2013</td>\n",
              "      <td>English</td>\n",
              "      <td>USA</td>\n",
              "      <td>100000000.0</td>\n",
              "      <td>8.2</td>\n",
              "      <td>Leonardo DiCaprio,Matthew McConaughey,Jon Favreau</td>\n",
              "      <td>138000</td>\n",
              "    </tr>\n",
              "    <tr>\n",
              "      <th>0</th>\n",
              "      <td>Color</td>\n",
              "      <td>Martin Scorsese</td>\n",
              "      <td>240</td>\n",
              "      <td>116866727.0</td>\n",
              "      <td>Drama</td>\n",
              "      <td>The Wolf of Wall Street</td>\n",
              "      <td>2013</td>\n",
              "      <td>English</td>\n",
              "      <td>USA</td>\n",
              "      <td>100000000.0</td>\n",
              "      <td>8.2</td>\n",
              "      <td>Leonardo DiCaprio,Matthew McConaughey,Jon Favreau</td>\n",
              "      <td>138000</td>\n",
              "    </tr>\n",
              "    <tr>\n",
              "      <th>1</th>\n",
              "      <td>Color</td>\n",
              "      <td>Shane Black</td>\n",
              "      <td>195</td>\n",
              "      <td>408992272.0</td>\n",
              "      <td>Action</td>\n",
              "      <td>Iron Man 3</td>\n",
              "      <td>2013</td>\n",
              "      <td>English</td>\n",
              "      <td>USA</td>\n",
              "      <td>200000000.0</td>\n",
              "      <td>7.2</td>\n",
              "      <td>Robert Downey Jr.,Jon Favreau,Don Cheadle</td>\n",
              "      <td>95000</td>\n",
              "    </tr>\n",
              "  </tbody>\n",
              "</table>\n",
              "</div>\n",
              "    <div class=\"colab-df-buttons\">\n",
              "\n",
              "  <div class=\"colab-df-container\">\n",
              "    <button class=\"colab-df-convert\" onclick=\"convertToInteractive('df-cc4424e4-863b-46ed-a71a-76fae19272fe')\"\n",
              "            title=\"Convert this dataframe to an interactive table.\"\n",
              "            style=\"display:none;\">\n",
              "\n",
              "  <svg xmlns=\"http://www.w3.org/2000/svg\" height=\"24px\" viewBox=\"0 -960 960 960\">\n",
              "    <path d=\"M120-120v-720h720v720H120Zm60-500h600v-160H180v160Zm220 220h160v-160H400v160Zm0 220h160v-160H400v160ZM180-400h160v-160H180v160Zm440 0h160v-160H620v160ZM180-180h160v-160H180v160Zm440 0h160v-160H620v160Z\"/>\n",
              "  </svg>\n",
              "    </button>\n",
              "\n",
              "  <style>\n",
              "    .colab-df-container {\n",
              "      display:flex;\n",
              "      gap: 12px;\n",
              "    }\n",
              "\n",
              "    .colab-df-convert {\n",
              "      background-color: #E8F0FE;\n",
              "      border: none;\n",
              "      border-radius: 50%;\n",
              "      cursor: pointer;\n",
              "      display: none;\n",
              "      fill: #1967D2;\n",
              "      height: 32px;\n",
              "      padding: 0 0 0 0;\n",
              "      width: 32px;\n",
              "    }\n",
              "\n",
              "    .colab-df-convert:hover {\n",
              "      background-color: #E2EBFA;\n",
              "      box-shadow: 0px 1px 2px rgba(60, 64, 67, 0.3), 0px 1px 3px 1px rgba(60, 64, 67, 0.15);\n",
              "      fill: #174EA6;\n",
              "    }\n",
              "\n",
              "    .colab-df-buttons div {\n",
              "      margin-bottom: 4px;\n",
              "    }\n",
              "\n",
              "    [theme=dark] .colab-df-convert {\n",
              "      background-color: #3B4455;\n",
              "      fill: #D2E3FC;\n",
              "    }\n",
              "\n",
              "    [theme=dark] .colab-df-convert:hover {\n",
              "      background-color: #434B5C;\n",
              "      box-shadow: 0px 1px 3px 1px rgba(0, 0, 0, 0.15);\n",
              "      filter: drop-shadow(0px 1px 2px rgba(0, 0, 0, 0.3));\n",
              "      fill: #FFFFFF;\n",
              "    }\n",
              "  </style>\n",
              "\n",
              "    <script>\n",
              "      const buttonEl =\n",
              "        document.querySelector('#df-cc4424e4-863b-46ed-a71a-76fae19272fe button.colab-df-convert');\n",
              "      buttonEl.style.display =\n",
              "        google.colab.kernel.accessAllowed ? 'block' : 'none';\n",
              "\n",
              "      async function convertToInteractive(key) {\n",
              "        const element = document.querySelector('#df-cc4424e4-863b-46ed-a71a-76fae19272fe');\n",
              "        const dataTable =\n",
              "          await google.colab.kernel.invokeFunction('convertToInteractive',\n",
              "                                                    [key], {});\n",
              "        if (!dataTable) return;\n",
              "\n",
              "        const docLinkHtml = 'Like what you see? Visit the ' +\n",
              "          '<a target=\"_blank\" href=https://colab.research.google.com/notebooks/data_table.ipynb>data table notebook</a>'\n",
              "          + ' to learn more about interactive tables.';\n",
              "        element.innerHTML = '';\n",
              "        dataTable['output_type'] = 'display_data';\n",
              "        await google.colab.output.renderOutput(dataTable, element);\n",
              "        const docLink = document.createElement('div');\n",
              "        docLink.innerHTML = docLinkHtml;\n",
              "        element.appendChild(docLink);\n",
              "      }\n",
              "    </script>\n",
              "  </div>\n",
              "\n",
              "\n",
              "<div id=\"df-66fcc2c8-c716-43b5-b3b7-8d3543b55fc8\">\n",
              "  <button class=\"colab-df-quickchart\" onclick=\"quickchart('df-66fcc2c8-c716-43b5-b3b7-8d3543b55fc8')\"\n",
              "            title=\"Suggest charts\"\n",
              "            style=\"display:none;\">\n",
              "\n",
              "<svg xmlns=\"http://www.w3.org/2000/svg\" height=\"24px\"viewBox=\"0 0 24 24\"\n",
              "     width=\"24px\">\n",
              "    <g>\n",
              "        <path d=\"M19 3H5c-1.1 0-2 .9-2 2v14c0 1.1.9 2 2 2h14c1.1 0 2-.9 2-2V5c0-1.1-.9-2-2-2zM9 17H7v-7h2v7zm4 0h-2V7h2v10zm4 0h-2v-4h2v4z\"/>\n",
              "    </g>\n",
              "</svg>\n",
              "  </button>\n",
              "\n",
              "<style>\n",
              "  .colab-df-quickchart {\n",
              "      --bg-color: #E8F0FE;\n",
              "      --fill-color: #1967D2;\n",
              "      --hover-bg-color: #E2EBFA;\n",
              "      --hover-fill-color: #174EA6;\n",
              "      --disabled-fill-color: #AAA;\n",
              "      --disabled-bg-color: #DDD;\n",
              "  }\n",
              "\n",
              "  [theme=dark] .colab-df-quickchart {\n",
              "      --bg-color: #3B4455;\n",
              "      --fill-color: #D2E3FC;\n",
              "      --hover-bg-color: #434B5C;\n",
              "      --hover-fill-color: #FFFFFF;\n",
              "      --disabled-bg-color: #3B4455;\n",
              "      --disabled-fill-color: #666;\n",
              "  }\n",
              "\n",
              "  .colab-df-quickchart {\n",
              "    background-color: var(--bg-color);\n",
              "    border: none;\n",
              "    border-radius: 50%;\n",
              "    cursor: pointer;\n",
              "    display: none;\n",
              "    fill: var(--fill-color);\n",
              "    height: 32px;\n",
              "    padding: 0;\n",
              "    width: 32px;\n",
              "  }\n",
              "\n",
              "  .colab-df-quickchart:hover {\n",
              "    background-color: var(--hover-bg-color);\n",
              "    box-shadow: 0 1px 2px rgba(60, 64, 67, 0.3), 0 1px 3px 1px rgba(60, 64, 67, 0.15);\n",
              "    fill: var(--button-hover-fill-color);\n",
              "  }\n",
              "\n",
              "  .colab-df-quickchart-complete:disabled,\n",
              "  .colab-df-quickchart-complete:disabled:hover {\n",
              "    background-color: var(--disabled-bg-color);\n",
              "    fill: var(--disabled-fill-color);\n",
              "    box-shadow: none;\n",
              "  }\n",
              "\n",
              "  .colab-df-spinner {\n",
              "    border: 2px solid var(--fill-color);\n",
              "    border-color: transparent;\n",
              "    border-bottom-color: var(--fill-color);\n",
              "    animation:\n",
              "      spin 1s steps(1) infinite;\n",
              "  }\n",
              "\n",
              "  @keyframes spin {\n",
              "    0% {\n",
              "      border-color: transparent;\n",
              "      border-bottom-color: var(--fill-color);\n",
              "      border-left-color: var(--fill-color);\n",
              "    }\n",
              "    20% {\n",
              "      border-color: transparent;\n",
              "      border-left-color: var(--fill-color);\n",
              "      border-top-color: var(--fill-color);\n",
              "    }\n",
              "    30% {\n",
              "      border-color: transparent;\n",
              "      border-left-color: var(--fill-color);\n",
              "      border-top-color: var(--fill-color);\n",
              "      border-right-color: var(--fill-color);\n",
              "    }\n",
              "    40% {\n",
              "      border-color: transparent;\n",
              "      border-right-color: var(--fill-color);\n",
              "      border-top-color: var(--fill-color);\n",
              "    }\n",
              "    60% {\n",
              "      border-color: transparent;\n",
              "      border-right-color: var(--fill-color);\n",
              "    }\n",
              "    80% {\n",
              "      border-color: transparent;\n",
              "      border-right-color: var(--fill-color);\n",
              "      border-bottom-color: var(--fill-color);\n",
              "    }\n",
              "    90% {\n",
              "      border-color: transparent;\n",
              "      border-bottom-color: var(--fill-color);\n",
              "    }\n",
              "  }\n",
              "</style>\n",
              "\n",
              "  <script>\n",
              "    async function quickchart(key) {\n",
              "      const quickchartButtonEl =\n",
              "        document.querySelector('#' + key + ' button');\n",
              "      quickchartButtonEl.disabled = true;  // To prevent multiple clicks.\n",
              "      quickchartButtonEl.classList.add('colab-df-spinner');\n",
              "      try {\n",
              "        const charts = await google.colab.kernel.invokeFunction(\n",
              "            'suggestCharts', [key], {});\n",
              "      } catch (error) {\n",
              "        console.error('Error during call to suggestCharts:', error);\n",
              "      }\n",
              "      quickchartButtonEl.classList.remove('colab-df-spinner');\n",
              "      quickchartButtonEl.classList.add('colab-df-quickchart-complete');\n",
              "    }\n",
              "    (() => {\n",
              "      let quickchartButtonEl =\n",
              "        document.querySelector('#df-66fcc2c8-c716-43b5-b3b7-8d3543b55fc8 button');\n",
              "      quickchartButtonEl.style.display =\n",
              "        google.colab.kernel.accessAllowed ? 'block' : 'none';\n",
              "    })();\n",
              "  </script>\n",
              "</div>\n",
              "\n",
              "    </div>\n",
              "  </div>\n"
            ],
            "application/vnd.google.colaboratory.intrinsic+json": {
              "type": "dataframe",
              "variable_name": "df",
              "summary": "{\n  \"name\": \"df\",\n  \"rows\": 292,\n  \"fields\": [\n    {\n      \"column\": \"color\",\n      \"properties\": {\n        \"dtype\": \"category\",\n        \"num_unique_values\": 3,\n        \"samples\": [\n          \"Color\",\n          \"color \",\n          \" Black and White\"\n        ],\n        \"semantic_type\": \"\",\n        \"description\": \"\"\n      }\n    },\n    {\n      \"column\": \"director_name\",\n      \"properties\": {\n        \"dtype\": \"category\",\n        \"num_unique_values\": 63,\n        \"samples\": [\n          \"David Ayer\",\n          \"Tony Gilroy\",\n          \"Martin Scorsese\"\n        ],\n        \"semantic_type\": \"\",\n        \"description\": \"\"\n      }\n    },\n    {\n      \"column\": \"duration\",\n      \"properties\": {\n        \"dtype\": \"number\",\n        \"std\": 68,\n        \"min\": -50,\n        \"max\": 650,\n        \"num_unique_values\": 39,\n        \"samples\": [\n          138,\n          135,\n          183\n        ],\n        \"semantic_type\": \"\",\n        \"description\": \"\"\n      }\n    },\n    {\n      \"column\": \"gross\",\n      \"properties\": {\n        \"dtype\": \"number\",\n        \"std\": 138226294.2154845,\n        \"min\": 41229.0,\n        \"max\": 623279547.0,\n        \"num_unique_values\": 85,\n        \"samples\": [\n          52474616.0,\n          116866727.0,\n          132550960.0\n        ],\n        \"semantic_type\": \"\",\n        \"description\": \"\"\n      }\n    },\n    {\n      \"column\": \"genres\",\n      \"properties\": {\n        \"dtype\": \"category\",\n        \"num_unique_values\": 19,\n        \"samples\": [\n          \"Biography\",\n          \"Adventure\",\n          \"Romance\"\n        ],\n        \"semantic_type\": \"\",\n        \"description\": \"\"\n      }\n    },\n    {\n      \"column\": \"movie_title\",\n      \"properties\": {\n        \"dtype\": \"category\",\n        \"num_unique_values\": 91,\n        \"samples\": [\n          \"The Help\",\n          \"The Revenant\",\n          \"Avengers: Age of Ultron\"\n        ],\n        \"semantic_type\": \"\",\n        \"description\": \"\"\n      }\n    },\n    {\n      \"column\": \"title_year\",\n      \"properties\": {\n        \"dtype\": \"number\",\n        \"std\": 257,\n        \"min\": 202,\n        \"max\": 2016,\n        \"num_unique_values\": 9,\n        \"samples\": [\n          2016,\n          2015,\n          2014\n        ],\n        \"semantic_type\": \"\",\n        \"description\": \"\"\n      }\n    },\n    {\n      \"column\": \"language\",\n      \"properties\": {\n        \"dtype\": \"category\",\n        \"num_unique_values\": 1,\n        \"samples\": [\n          \"English\"\n        ],\n        \"semantic_type\": \"\",\n        \"description\": \"\"\n      }\n    },\n    {\n      \"column\": \"country\",\n      \"properties\": {\n        \"dtype\": \"category\",\n        \"num_unique_values\": 12,\n        \"samples\": [\n          \"Kyrgyzstan\"\n        ],\n        \"semantic_type\": \"\",\n        \"description\": \"\"\n      }\n    },\n    {\n      \"column\": \"budget\",\n      \"properties\": {\n        \"dtype\": \"number\",\n        \"std\": 76183249.56827788,\n        \"min\": 17350.0,\n        \"max\": 250000000.0,\n        \"num_unique_values\": 56,\n        \"samples\": [\n          100000000.0\n        ],\n        \"semantic_type\": \"\",\n        \"description\": \"\"\n      }\n    },\n    {\n      \"column\": \"imdb_score\",\n      \"properties\": {\n        \"dtype\": \"number\",\n        \"std\": 1.8058788753543689,\n        \"min\": -7.5,\n        \"max\": 8.8,\n        \"num_unique_values\": 35,\n        \"samples\": [\n          3.0\n        ],\n        \"semantic_type\": \"\",\n        \"description\": \"\"\n      }\n    },\n    {\n      \"column\": \"actors\",\n      \"properties\": {\n        \"dtype\": \"category\",\n        \"num_unique_values\": 88,\n        \"samples\": [\n          \"Liam Neeson,Charlize Theron,Seth MacFarlane\"\n        ],\n        \"semantic_type\": \"\",\n        \"description\": \"\"\n      }\n    },\n    {\n      \"column\": \"movie_facebook_likes\",\n      \"properties\": {\n        \"dtype\": \"number\",\n        \"std\": 58290,\n        \"min\": 0,\n        \"max\": 349000,\n        \"num_unique_values\": 67,\n        \"samples\": [\n          72000\n        ],\n        \"semantic_type\": \"\",\n        \"description\": \"\"\n      }\n    }\n  ]\n}"
            }
          },
          "metadata": {},
          "execution_count": 27
        }
      ]
    },
    {
      "cell_type": "markdown",
      "source": [
        "Ubah Semua Text Jadi Uppercase"
      ],
      "metadata": {
        "id": "OUqZZ1oVTxsa"
      }
    },
    {
      "cell_type": "code",
      "source": [
        "# Mengubah semua kolom teks menjadi huruf besar\n",
        "df = df.applymap(lambda x: x.upper() if isinstance(x, str) else x)"
      ],
      "metadata": {
        "colab": {
          "base_uri": "https://localhost:8080/"
        },
        "id": "H5_4Lc-NT6jY",
        "outputId": "faef7631-0554-4b72-b335-68867c06f57d"
      },
      "execution_count": 28,
      "outputs": [
        {
          "output_type": "stream",
          "name": "stderr",
          "text": [
            "<ipython-input-28-43940fde0f1e>:2: FutureWarning: DataFrame.applymap has been deprecated. Use DataFrame.map instead.\n",
            "  df = df.applymap(lambda x: x.upper() if isinstance(x, str) else x)\n"
          ]
        }
      ]
    },
    {
      "cell_type": "markdown",
      "source": [
        "**5. Penyimpanan Data**"
      ],
      "metadata": {
        "id": "yY5jXfhVUAhB"
      }
    },
    {
      "cell_type": "code",
      "source": [
        "df_cleaned.to_csv('movie_dataset_cleaned.csv', index=False)\n"
      ],
      "metadata": {
        "id": "lRf0pYviMYCH"
      },
      "execution_count": 29,
      "outputs": []
    }
  ]
}